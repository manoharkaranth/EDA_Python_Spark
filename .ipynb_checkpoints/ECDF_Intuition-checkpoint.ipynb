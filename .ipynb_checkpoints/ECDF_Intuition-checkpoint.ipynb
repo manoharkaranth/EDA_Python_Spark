{
 "cells": [
  {
   "cell_type": "code",
   "execution_count": 1,
   "metadata": {},
   "outputs": [],
   "source": [
    "# Importing libraries.\n",
    "import wget\n",
    "import numpy as np\n",
    "import pandas as pd\n",
    "\n",
    "import seaborn as sns\n",
    "import matplotlib.pyplot as plt\n",
    "import matplotlib.patches as mpatches\n",
    "%matplotlib inline"
   ]
  },
  {
   "cell_type": "code",
   "execution_count": 2,
   "metadata": {},
   "outputs": [],
   "source": [
    "# Removing warnings.\n",
    "import warnings\n",
    "warnings.filterwarnings('ignore')"
   ]
  },
  {
   "cell_type": "code",
   "execution_count": 3,
   "metadata": {},
   "outputs": [],
   "source": [
    "file_name  = \"Housing.csv\"\n",
    "zenodo_url = \"https://zenodo.org/record/4095483/files/\""
   ]
  },
  {
   "cell_type": "code",
   "execution_count": 3,
   "metadata": {},
   "outputs": [],
   "source": [
    "# Downloading the file Weather.csv from Zenodo.\n",
    "wget.download(zenodo_url + file_name, \"./Assets/\" + file_name)"
   ]
  },
  {
   "cell_type": "code",
   "execution_count": 4,
   "metadata": {},
   "outputs": [
    {
     "data": {
      "text/html": [
       "<div>\n",
       "<style scoped>\n",
       "    .dataframe tbody tr th:only-of-type {\n",
       "        vertical-align: middle;\n",
       "    }\n",
       "\n",
       "    .dataframe tbody tr th {\n",
       "        vertical-align: top;\n",
       "    }\n",
       "\n",
       "    .dataframe thead th {\n",
       "        text-align: right;\n",
       "    }\n",
       "</style>\n",
       "<table border=\"1\" class=\"dataframe\">\n",
       "  <thead>\n",
       "    <tr style=\"text-align: right;\">\n",
       "      <th></th>\n",
       "      <th>longitude</th>\n",
       "      <th>latitude</th>\n",
       "      <th>housing_median_age</th>\n",
       "      <th>total_rooms</th>\n",
       "      <th>total_bedrooms</th>\n",
       "      <th>population</th>\n",
       "      <th>households</th>\n",
       "      <th>median_income</th>\n",
       "      <th>median_house_value</th>\n",
       "      <th>ocean_proximity</th>\n",
       "    </tr>\n",
       "  </thead>\n",
       "  <tbody>\n",
       "    <tr>\n",
       "      <th>0</th>\n",
       "      <td>-122.23</td>\n",
       "      <td>37.88</td>\n",
       "      <td>41.0</td>\n",
       "      <td>880.0</td>\n",
       "      <td>129.0</td>\n",
       "      <td>322.0</td>\n",
       "      <td>126.0</td>\n",
       "      <td>8.3252</td>\n",
       "      <td>452600.0</td>\n",
       "      <td>NEAR BAY</td>\n",
       "    </tr>\n",
       "    <tr>\n",
       "      <th>1</th>\n",
       "      <td>-122.22</td>\n",
       "      <td>37.86</td>\n",
       "      <td>21.0</td>\n",
       "      <td>7099.0</td>\n",
       "      <td>1106.0</td>\n",
       "      <td>2401.0</td>\n",
       "      <td>1138.0</td>\n",
       "      <td>8.3014</td>\n",
       "      <td>358500.0</td>\n",
       "      <td>NEAR BAY</td>\n",
       "    </tr>\n",
       "    <tr>\n",
       "      <th>2</th>\n",
       "      <td>-122.24</td>\n",
       "      <td>37.85</td>\n",
       "      <td>52.0</td>\n",
       "      <td>1467.0</td>\n",
       "      <td>190.0</td>\n",
       "      <td>496.0</td>\n",
       "      <td>177.0</td>\n",
       "      <td>7.2574</td>\n",
       "      <td>352100.0</td>\n",
       "      <td>NEAR BAY</td>\n",
       "    </tr>\n",
       "  </tbody>\n",
       "</table>\n",
       "</div>"
      ],
      "text/plain": [
       "   longitude  latitude  housing_median_age  total_rooms  total_bedrooms  \\\n",
       "0    -122.23     37.88                41.0        880.0           129.0   \n",
       "1    -122.22     37.86                21.0       7099.0          1106.0   \n",
       "2    -122.24     37.85                52.0       1467.0           190.0   \n",
       "\n",
       "   population  households  median_income  median_house_value ocean_proximity  \n",
       "0       322.0       126.0         8.3252            452600.0        NEAR BAY  \n",
       "1      2401.0      1138.0         8.3014            358500.0        NEAR BAY  \n",
       "2       496.0       177.0         7.2574            352100.0        NEAR BAY  "
      ]
     },
     "execution_count": 4,
     "metadata": {},
     "output_type": "execute_result"
    }
   ],
   "source": [
    "df.head(3)"
   ]
  },
  {
   "cell_type": "code",
   "execution_count": 5,
   "metadata": {},
   "outputs": [],
   "source": [
    "df1=df[['median_house_value']]"
   ]
  },
  {
   "cell_type": "code",
   "execution_count": null,
   "metadata": {},
   "outputs": [],
   "source": []
  },
  {
   "cell_type": "code",
   "execution_count": null,
   "metadata": {},
   "outputs": [],
   "source": []
  },
  {
   "cell_type": "markdown",
   "metadata": {},
   "source": [
    "#### Ploting the Line curve and histogram for median house value."
   ]
  },
  {
   "cell_type": "code",
   "execution_count": 6,
   "metadata": {},
   "outputs": [
    {
     "data": {
      "text/plain": [
       "<matplotlib.lines.Line2D at 0x2455279bc10>"
      ]
     },
     "execution_count": 6,
     "metadata": {},
     "output_type": "execute_result"
    },
    {
     "data": {
      "image/png": "[encoded data removed]",
      "text/plain": [
       "<Figure size 432x288 with 1 Axes>"
      ]
     },
     "metadata": {
      "needs_background": "light"
     },
     "output_type": "display_data"
    }
   ],
   "source": [
    "ax = sns.distplot(df1['median_house_value'], rug=True, hist=True)\n",
    "avg1 = int(df1.mean())\n",
    "plt.axvline(x=avg1,\n",
    "           linestyle = '--',\n",
    "           color = 'red')\n"
   ]
  },
  {
   "cell_type": "markdown",
   "metadata": {},
   "source": [
    "#### Function to perform ECDF"
   ]
  },
  {
   "cell_type": "code",
   "execution_count": 7,
   "metadata": {},
   "outputs": [],
   "source": [
    "def ecdf(data):\n",
    "    n = len(data)\n",
    "    # x-data for the ECDF\n",
    "    x = np.sort(data)\n",
    "    # y-data for the ECDF\n",
    "    y = np.arange(1, len(x)+1) / n\n",
    "    return x, y"
   ]
  },
  {
   "cell_type": "markdown",
   "metadata": {},
   "source": [
    "#### Function to calculate quantile of values"
   ]
  },
  {
   "cell_type": "code",
   "execution_count": 8,
   "metadata": {},
   "outputs": [],
   "source": [
    "def quartiles(data, threshold):\n",
    "    quarts = df1.quantile([threshold, 1 - threshold])\n",
    "    quart1 = quarts.iloc[0]\n",
    "    quart2 = quarts.iloc[1]\n",
    "    return quart1, quart2"
   ]
  },
  {
   "cell_type": "markdown",
   "metadata": {},
   "source": [
    "#### Note: To make the cleaning process a bit interactive, we are provinding explicit input for threshold. Ideally, input value for threshold should be below 0.1 (10%)."
   ]
  },
  {
   "cell_type": "code",
   "execution_count": 9,
   "metadata": {},
   "outputs": [
    {
     "name": "stdout",
     "output_type": "stream",
     "text": [
      "\n",
      "Input the value for threshold.\n",
      ".035\n",
      "You have entered 0.035 (<class 'float'>) for threshold value.\n"
     ]
    }
   ],
   "source": [
    "try:\n",
    "    threshold = float(input('\\nInput the value for threshold.\\n'))\n",
    "    print('You have entered {} ({}) for threshold value.'.format(threshold,\n",
    "                                                           type(threshold)))\n",
    "except:\n",
    "    print('\\nFormat of value is not float or a number.')"
   ]
  },
  {
   "cell_type": "markdown",
   "metadata": {},
   "source": [
    "#### Calculating percentiles of raw data."
   ]
  },
  {
   "cell_type": "code",
   "execution_count": 10,
   "metadata": {},
   "outputs": [
    {
     "name": "stdout",
     "output_type": "stream",
     "text": [
      "Percentiles for the data in given threshold of 0.035 is:\n",
      "|3.5000000000000004 % : 60700.0\n",
      "|96.5 % : 500001.0\n"
     ]
    }
   ],
   "source": [
    "quart1, quart2 = quartiles(df1, threshold)\n",
    "print('Percentiles for the data in given threshold of {} is:\\n|{} % : {}\\n|{} % : {}'.format(threshold,\n",
    "                                                                                         threshold * 100,\n",
    "                                                                                         quart1[0],\n",
    "                                                                                         (1 - threshold) * 100,\n",
    "                                                                                         quart2[0]))"
   ]
  },
  {
   "cell_type": "code",
   "execution_count": 11,
   "metadata": {},
   "outputs": [],
   "source": [
    "def plot_ecdf_distribution(data, quart1, quart2, avg):\n",
    "    # Set color gamma manually\n",
    "    primary_color   = '#1F00AA'\n",
    "    secondary_color = '#F74600'\n",
    "    value_color     = '#2F1557'\n",
    "    subcolor        = '#32B132'\n",
    "\n",
    "    x, y = ecdf(data['median_house_value'])\n",
    "    sns.set_style('whitegrid')\n",
    "    plt.figure('fig_size'==(25,15))\n",
    "    plt.plot(x, y, marker='.',\n",
    "                 linestyle='none',\n",
    "                 color = value_color,\n",
    "                 alpha = 0.8)\n",
    "    plt.margins(0.02)\n",
    "    \n",
    "    # Overlaying percentiles as red diamonds.\n",
    "    percentiles = np.array([50])\n",
    "    df_perc = np.percentile(data['median_house_value'],\n",
    "                            percentiles)\n",
    "    \n",
    "    # Labeling the axes.\n",
    "    plt.xlabel('Median housing value in California,US \\nMedian is {}\\nAverage is {}.\\nDifference is {}%'.format(df_perc,\n",
    "                                                                                                             avg,\n",
    "                                                                                                             (avg - df_perc)/avg*100),\n",
    "                   fontsize = 12,\n",
    "                   family='Arial')\n",
    "    \n",
    "    plt.ylabel('ECDF',\n",
    "                   fontsize = 12)\n",
    "\n",
    "    plt.plot(df_perc, percentiles/100, marker='D', color='red', linestyle='none', markersize = 10)\n",
    "\n",
    "    # Drawing vertical line on a plot.\n",
    "    plt.axvline(x = df_perc, color = primary_color)\n",
    "    plt.axvline(x = avg, color = subcolor)\n",
    "    plt.axvline(x = quart1, color = secondary_color, linestyle = '--')\n",
    "    plt.axvline(x = quart2, color = secondary_color, linestyle = '--')\n",
    "\n",
    "    # Drawing a horizontal line on a plot.\n",
    "    plt.axhline(y = 0.5, color = primary_color)\n",
    "    plt.axhline(y = threshold, color = secondary_color, linestyle = '--')\n",
    "    plt.axhline(y = 1 - threshold, color = secondary_color, linestyle = '--')\n",
    "\n",
    "    plt.tick_params(labelsize=12)\n",
    "\n",
    "    # Seting axis style.\n",
    "    plt.grid(b=True,\n",
    "                 which='major',\n",
    "                 color='#cccccc',\n",
    "                 linestyle='--')\n",
    "\n",
    "    # Adding legend.\n",
    "    patch = mpatches.Patch(color = value_color,\n",
    "                           label='Dataset')\n",
    "\n",
    "    plt.legend(handles=[patch],\n",
    "                   loc = 'lower right',\n",
    "                   fontsize = 14)\n",
    "    \n",
    "    return None"
   ]
  },
  {
   "cell_type": "code",
   "execution_count": 12,
   "metadata": {},
   "outputs": [
    {
     "data": {
      "image/png": "[encoded data removed]",
      "text/plain": [
       "<Figure size 432x288 with 1 Axes>"
      ]
     },
     "metadata": {},
     "output_type": "display_data"
    }
   ],
   "source": [
    "plot_ecdf_distribution(df1, quart1[0], quart2[0], avg1)"
   ]
  },
  {
   "cell_type": "markdown",
   "metadata": {},
   "source": [
    "#### Removing outliers (over and below the Threshold)."
   ]
  },
  {
   "cell_type": "code",
   "execution_count": 13,
   "metadata": {},
   "outputs": [
    {
     "name": "stdout",
     "output_type": "stream",
     "text": [
      "After data cleaning we have lost 1690 observations and now we have 18950 observations.\n"
     ]
    }
   ],
   "source": [
    "len1 = df1.shape[0]\n",
    "df2= df1[df1['median_house_value'] > quart1[0]]\n",
    "df2 = df2[df2['median_house_value'] < quart2[0]]\n",
    "len2 = df2.shape[0]\n",
    "len3=len1-len2\n",
    "print('After data cleaning we have lost {} observations and now we have {} observations.'.format(len3,len2))  "
   ]
  },
  {
   "cell_type": "code",
   "execution_count": 14,
   "metadata": {},
   "outputs": [
    {
     "data": {
      "text/html": [
       "<div>\n",
       "<style scoped>\n",
       "    .dataframe tbody tr th:only-of-type {\n",
       "        vertical-align: middle;\n",
       "    }\n",
       "\n",
       "    .dataframe tbody tr th {\n",
       "        vertical-align: top;\n",
       "    }\n",
       "\n",
       "    .dataframe thead th {\n",
       "        text-align: right;\n",
       "    }\n",
       "</style>\n",
       "<table border=\"1\" class=\"dataframe\">\n",
       "  <thead>\n",
       "    <tr style=\"text-align: right;\">\n",
       "      <th></th>\n",
       "      <th>median_house_value</th>\n",
       "    </tr>\n",
       "  </thead>\n",
       "  <tbody>\n",
       "    <tr>\n",
       "      <th>0</th>\n",
       "      <td>452600.0</td>\n",
       "    </tr>\n",
       "    <tr>\n",
       "      <th>1</th>\n",
       "      <td>358500.0</td>\n",
       "    </tr>\n",
       "    <tr>\n",
       "      <th>2</th>\n",
       "      <td>352100.0</td>\n",
       "    </tr>\n",
       "    <tr>\n",
       "      <th>3</th>\n",
       "      <td>341300.0</td>\n",
       "    </tr>\n",
       "    <tr>\n",
       "      <th>4</th>\n",
       "      <td>342200.0</td>\n",
       "    </tr>\n",
       "    <tr>\n",
       "      <th>...</th>\n",
       "      <td>...</td>\n",
       "    </tr>\n",
       "    <tr>\n",
       "      <th>20635</th>\n",
       "      <td>78100.0</td>\n",
       "    </tr>\n",
       "    <tr>\n",
       "      <th>20636</th>\n",
       "      <td>77100.0</td>\n",
       "    </tr>\n",
       "    <tr>\n",
       "      <th>20637</th>\n",
       "      <td>92300.0</td>\n",
       "    </tr>\n",
       "    <tr>\n",
       "      <th>20638</th>\n",
       "      <td>84700.0</td>\n",
       "    </tr>\n",
       "    <tr>\n",
       "      <th>20639</th>\n",
       "      <td>89400.0</td>\n",
       "    </tr>\n",
       "  </tbody>\n",
       "</table>\n",
       "<p>20640 rows × 1 columns</p>\n",
       "</div>"
      ],
      "text/plain": [
       "       median_house_value\n",
       "0                452600.0\n",
       "1                358500.0\n",
       "2                352100.0\n",
       "3                341300.0\n",
       "4                342200.0\n",
       "...                   ...\n",
       "20635             78100.0\n",
       "20636             77100.0\n",
       "20637             92300.0\n",
       "20638             84700.0\n",
       "20639             89400.0\n",
       "\n",
       "[20640 rows x 1 columns]"
      ]
     },
     "execution_count": 14,
     "metadata": {},
     "output_type": "execute_result"
    }
   ],
   "source": [
    "df1"
   ]
  },
  {
   "cell_type": "code",
   "execution_count": 15,
   "metadata": {},
   "outputs": [
    {
     "data": {
      "text/plain": [
       "20640"
      ]
     },
     "execution_count": 15,
     "metadata": {},
     "output_type": "execute_result"
    }
   ],
   "source": [
    "df1['median_house_value'].shape[0]"
   ]
  },
  {
   "cell_type": "markdown",
   "metadata": {},
   "source": [
    "#### Calculating percentiles of cleaned dataset."
   ]
  },
  {
   "cell_type": "code",
   "execution_count": 17,
   "metadata": {},
   "outputs": [
    {
     "name": "stdout",
     "output_type": "stream",
     "text": [
      "Percentiles for the data in given threshold of 0.035 is:\n",
      "|3.5000000000000004 % : 60700.0\n",
      "|96.5 % : 500001.0\n"
     ]
    }
   ],
   "source": [
    "quart1, quart2 = quartiles(df2, threshold)\n",
    "print('Percentiles for the data in given threshold of {} is:\\n|{} % : {}\\n|{} % : {}'.format(threshold,\n",
    "                                                                                         threshold * 100,\n",
    "                                                                                         quart1[0],\n",
    "                                                                                         (1 - threshold) * 100,\n",
    "                                                                                         quart2[0]))"
   ]
  },
  {
   "cell_type": "code",
   "execution_count": 19,
   "metadata": {},
   "outputs": [
    {
     "data": {
      "image/png": "[encoded data removed]",
      "text/plain": [
       "<Figure size 432x288 with 1 Axes>"
      ]
     },
     "metadata": {},
     "output_type": "display_data"
    }
   ],
   "source": [
    "plot_ecdf_distribution(df2, quart1[0], quart2[0], df2['median_house_value'].mean())"
   ]
  },
  {
   "cell_type": "code",
   "execution_count": 20,
   "metadata": {},
   "outputs": [
    {
     "data": {
      "text/plain": [
       "<matplotlib.lines.Line2D at 0x24553215820>"
      ]
     },
     "execution_count": 20,
     "metadata": {},
     "output_type": "execute_result"
    },
    {
     "data": {
      "image/png": "[encoded data removed]",
      "text/plain": [
       "<Figure size 432x288 with 1 Axes>"
      ]
     },
     "metadata": {},
     "output_type": "display_data"
    }
   ],
   "source": [
    "ax = sns.distplot(df2['median_house_value'], rug=True, hist=True)\n",
    "avg1 = int(df2.mean())\n",
    "plt.axvline(x=avg1,\n",
    "           linestyle = '--',\n",
    "           color = 'red')"
   ]
  },
  {
   "cell_type": "code",
   "execution_count": null,
   "metadata": {},
   "outputs": [],
   "source": []
  }
 ],
 "metadata": {
  "kernelspec": {
   "display_name": "Python 3",
   "language": "python",
   "name": "python3"
  },
  "language_info": {
   "codemirror_mode": {
    "name": "ipython",
    "version": 3
   },
   "file_extension": ".py",
   "mimetype": "text/x-python",
   "name": "python",
   "nbconvert_exporter": "python",
   "pygments_lexer": "ipython3",
   "version": "3.8.3"
  }
 },
 "nbformat": 4,
 "nbformat_minor": 4
}
